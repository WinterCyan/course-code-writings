{
 "cells": [
  {
   "cell_type": "code",
   "execution_count": 28,
   "id": "99e7000d",
   "metadata": {},
   "outputs": [],
   "source": [
    "import torch\n",
    "import torch.nn as nn\n",
    "import torch.nn.functional as F"
   ]
  },
  {
   "cell_type": "code",
   "execution_count": 29,
   "id": "4dbc3463",
   "metadata": {},
   "outputs": [],
   "source": [
    "batch_size, class_count = 5, 3\n",
    "x = torch.randn(batch_size, class_count)"
   ]
  },
  {
   "cell_type": "code",
   "execution_count": 30,
   "id": "ac9eed75",
   "metadata": {},
   "outputs": [
    {
     "data": {
      "text/plain": [
       "torch.Size([5, 3])"
      ]
     },
     "execution_count": 30,
     "metadata": {},
     "output_type": "execute_result"
    }
   ],
   "source": [
    "x.shape"
   ]
  },
  {
   "cell_type": "code",
   "execution_count": 31,
   "id": "f8239008",
   "metadata": {},
   "outputs": [
    {
     "data": {
      "text/plain": [
       "tensor([[-2.9086,  0.3386, -1.4360],\n",
       "        [-0.7140, -0.5427, -0.4925],\n",
       "        [ 2.5223,  1.0760, -0.3562],\n",
       "        [-0.0757,  0.6754, -0.0623],\n",
       "        [-0.6869, -0.3563,  0.8194]])"
      ]
     },
     "execution_count": 31,
     "metadata": {},
     "output_type": "execute_result"
    }
   ],
   "source": [
    "x"
   ]
  },
  {
   "cell_type": "code",
   "execution_count": 32,
   "id": "7f035d89",
   "metadata": {},
   "outputs": [],
   "source": [
    "target = torch.randint(low=0, high=class_count, size=(batch_size,), dtype=torch.long)  # [0, high)"
   ]
  },
  {
   "cell_type": "code",
   "execution_count": 33,
   "id": "246a9d11",
   "metadata": {},
   "outputs": [
    {
     "data": {
      "text/plain": [
       "tensor([0, 2, 1, 1, 0])"
      ]
     },
     "execution_count": 33,
     "metadata": {},
     "output_type": "execute_result"
    }
   ],
   "source": [
    "target"
   ]
  },
  {
   "cell_type": "markdown",
   "id": "6b5c36eb",
   "metadata": {},
   "source": [
    "## softmax + negative-likelihood"
   ]
  },
  {
   "cell_type": "code",
   "execution_count": 51,
   "id": "af860304",
   "metadata": {},
   "outputs": [],
   "source": [
    "def softmax(x):\n",
    "    return x.exp()/(x.exp().sum(-1)).unsqueeze(-1)\n",
    "\n",
    "def nl(input, target):\n",
    "    return -input[range(target.shape[0]), target].log().mean()"
   ]
  },
  {
   "cell_type": "markdown",
   "id": "60b5881f",
   "metadata": {},
   "source": [
    "**softmax**: *normalize* every vector in a batch, with exp() fun. ---> xi.exp()/sum(xi.exp())"
   ]
  },
  {
   "cell_type": "code",
   "execution_count": 39,
   "id": "f4ee4629",
   "metadata": {
    "scrolled": true
   },
   "outputs": [
    {
     "data": {
      "text/plain": [
       "tensor([[ 0.0546,  1.4029,  0.2379],\n",
       "        [ 0.4897,  0.5812,  0.6111],\n",
       "        [12.4571,  2.9328,  0.7003],\n",
       "        [ 0.9271,  1.9648,  0.9396],\n",
       "        [ 0.5032,  0.7003,  2.2692]])"
      ]
     },
     "execution_count": 39,
     "metadata": {},
     "output_type": "execute_result"
    }
   ],
   "source": [
    "x.exp()"
   ]
  },
  {
   "cell_type": "code",
   "execution_count": 36,
   "id": "28d73ff3",
   "metadata": {},
   "outputs": [
    {
     "data": {
      "text/plain": [
       "tensor([[ 1.6953],\n",
       "        [ 1.6820],\n",
       "        [16.0903],\n",
       "        [ 3.8314],\n",
       "        [ 3.4727]])"
      ]
     },
     "execution_count": 36,
     "metadata": {},
     "output_type": "execute_result"
    }
   ],
   "source": [
    "x.exp().sum(-1).unsqueeze(-1)"
   ]
  },
  {
   "cell_type": "code",
   "execution_count": 37,
   "id": "eb4acf2e",
   "metadata": {},
   "outputs": [
    {
     "data": {
      "text/plain": [
       "tensor([[0.0322, 0.8275, 0.1403],\n",
       "        [0.2911, 0.3455, 0.3633],\n",
       "        [0.7742, 0.1823, 0.0435],\n",
       "        [0.2420, 0.5128, 0.2452],\n",
       "        [0.1449, 0.2016, 0.6535]])"
      ]
     },
     "execution_count": 37,
     "metadata": {},
     "output_type": "execute_result"
    }
   ],
   "source": [
    "x.exp()/(x.exp().sum(-1)).unsqueeze(-1)"
   ]
  },
  {
   "cell_type": "code",
   "execution_count": 41,
   "id": "923ed451",
   "metadata": {},
   "outputs": [],
   "source": [
    "pred = softmax(x)"
   ]
  },
  {
   "cell_type": "code",
   "execution_count": 42,
   "id": "48e63de9",
   "metadata": {},
   "outputs": [
    {
     "data": {
      "text/plain": [
       "tensor([[0.0322, 0.8275, 0.1403],\n",
       "        [0.2911, 0.3455, 0.3633],\n",
       "        [0.7742, 0.1823, 0.0435],\n",
       "        [0.2420, 0.5128, 0.2452],\n",
       "        [0.1449, 0.2016, 0.6535]])"
      ]
     },
     "execution_count": 42,
     "metadata": {},
     "output_type": "execute_result"
    }
   ],
   "source": [
    "pred"
   ]
  },
  {
   "cell_type": "code",
   "execution_count": 43,
   "id": "52f68ea3",
   "metadata": {},
   "outputs": [
    {
     "data": {
      "text/plain": [
       "range(0, 5)"
      ]
     },
     "execution_count": 43,
     "metadata": {},
     "output_type": "execute_result"
    }
   ],
   "source": [
    "range(target.shape[0])"
   ]
  },
  {
   "cell_type": "code",
   "execution_count": 44,
   "id": "13be1bb2",
   "metadata": {},
   "outputs": [
    {
     "data": {
      "text/plain": [
       "[range(0, 5), tensor([0, 2, 1, 1, 0])]"
      ]
     },
     "execution_count": 44,
     "metadata": {},
     "output_type": "execute_result"
    }
   ],
   "source": [
    "[range(target.shape[0]), target]"
   ]
  },
  {
   "cell_type": "code",
   "execution_count": 45,
   "id": "3cfe4985",
   "metadata": {},
   "outputs": [
    {
     "data": {
      "text/plain": [
       "tensor([0.0322, 0.3633, 0.1823, 0.5128, 0.1449])"
      ]
     },
     "execution_count": 45,
     "metadata": {},
     "output_type": "execute_result"
    }
   ],
   "source": [
    "pred[range(target.shape[0]), target]"
   ]
  },
  {
   "cell_type": "code",
   "execution_count": 46,
   "id": "62114dd0",
   "metadata": {},
   "outputs": [
    {
     "data": {
      "text/plain": [
       "tensor([0.1403, 0.3455, 0.1823, 0.2420, 0.6535])"
      ]
     },
     "execution_count": 46,
     "metadata": {},
     "output_type": "execute_result"
    }
   ],
   "source": [
    "pred[[0,1,2,3,4],[2,1,1,0,2]]"
   ]
  },
  {
   "cell_type": "markdown",
   "id": "2a8ec5ca",
   "metadata": {},
   "source": [
    "target: [0,2,1,1,0]\n",
    "\n",
    "pred[range(target.shape[0]), target] select pred's specific class value corresponding target for every pred in the batch."
   ]
  },
  {
   "cell_type": "code",
   "execution_count": 47,
   "id": "3db8a65c",
   "metadata": {},
   "outputs": [
    {
     "data": {
      "text/plain": [
       "tensor([3.4365, 1.0124, 1.7022, 0.6679, 1.9318])"
      ]
     },
     "execution_count": 47,
     "metadata": {},
     "output_type": "execute_result"
    }
   ],
   "source": [
    "-pred[range(target.shape[0]), target].log()"
   ]
  },
  {
   "cell_type": "code",
   "execution_count": 48,
   "id": "8c82f4a0",
   "metadata": {},
   "outputs": [
    {
     "data": {
      "text/plain": [
       "tensor(1.7502)"
      ]
     },
     "execution_count": 48,
     "metadata": {},
     "output_type": "execute_result"
    }
   ],
   "source": [
    "-pred[range(target.shape[0]), target].log().mean()"
   ]
  },
  {
   "cell_type": "code",
   "execution_count": 52,
   "id": "26906dfd",
   "metadata": {},
   "outputs": [],
   "source": [
    "loss = nl(pred, target)"
   ]
  },
  {
   "cell_type": "code",
   "execution_count": 53,
   "id": "442840f8",
   "metadata": {},
   "outputs": [
    {
     "data": {
      "text/plain": [
       "tensor(1.7502)"
      ]
     },
     "execution_count": 53,
     "metadata": {},
     "output_type": "execute_result"
    }
   ],
   "source": [
    "loss"
   ]
  },
  {
   "cell_type": "markdown",
   "id": "5a7501e4",
   "metadata": {},
   "source": [
    "**negative likelihood**:\n",
    "\n",
    "*likelihood*: log of prediction(probability)\n",
    "\n",
    "*negative*: likelihood is negative, -likelihood is positive.\n",
    "\n",
    "*loss*: mean of neg-like"
   ]
  },
  {
   "cell_type": "markdown",
   "id": "789509e2",
   "metadata": {},
   "source": [
    "## log_softmax + negative-log-likelihood"
   ]
  },
  {
   "cell_type": "code",
   "execution_count": 54,
   "id": "9cb38a28",
   "metadata": {},
   "outputs": [],
   "source": [
    "def log_softmax(x):\n",
    "    return x - x.exp().sum(-1).log().unsqueeze(-1)\n",
    "\n",
    "def nll(input, target):\n",
    "    return -input[range(target.shape[0]), target].mean()"
   ]
  },
  {
   "cell_type": "code",
   "execution_count": 56,
   "id": "177edc59",
   "metadata": {},
   "outputs": [],
   "source": [
    "pred = log_softmax(x)\n",
    "loss = nll(pred, target)"
   ]
  },
  {
   "cell_type": "code",
   "execution_count": 57,
   "id": "824706ef",
   "metadata": {},
   "outputs": [
    {
     "data": {
      "text/plain": [
       "tensor(1.7502)"
      ]
     },
     "execution_count": 57,
     "metadata": {},
     "output_type": "execute_result"
    }
   ],
   "source": [
    "loss"
   ]
  },
  {
   "cell_type": "markdown",
   "id": "c75ef307",
   "metadata": {},
   "source": [
    "the loss result is same as former one, so\n",
    "*softmax + nl* == *log_softmax + nll*"
   ]
  },
  {
   "cell_type": "markdown",
   "id": "4c83cc7e",
   "metadata": {},
   "source": [
    "## F.log_softmax + F.nll_loss"
   ]
  },
  {
   "cell_type": "code",
   "execution_count": 58,
   "id": "2c2c06da",
   "metadata": {},
   "outputs": [],
   "source": [
    "pred = F.log_softmax(x, dim=-1)  # dim: on which the softmax fun operate\n",
    "loss = F.nll_loss(pred, target)"
   ]
  },
  {
   "cell_type": "code",
   "execution_count": 59,
   "id": "37c55166",
   "metadata": {},
   "outputs": [
    {
     "data": {
      "text/plain": [
       "tensor(1.7502)"
      ]
     },
     "execution_count": 59,
     "metadata": {},
     "output_type": "execute_result"
    }
   ],
   "source": [
    "loss"
   ]
  },
  {
   "cell_type": "markdown",
   "id": "577bc366",
   "metadata": {},
   "source": [
    "## F.cross_entropy"
   ]
  },
  {
   "cell_type": "code",
   "execution_count": 60,
   "id": "e8da53f8",
   "metadata": {},
   "outputs": [],
   "source": [
    "loss = F.cross_entropy(x, target)  # here, there is no exp/softmax operate on x !"
   ]
  },
  {
   "cell_type": "code",
   "execution_count": 61,
   "id": "8498309b",
   "metadata": {},
   "outputs": [
    {
     "data": {
      "text/plain": [
       "tensor(1.7502)"
      ]
     },
     "execution_count": 61,
     "metadata": {},
     "output_type": "execute_result"
    }
   ],
   "source": [
    "loss"
   ]
  }
 ],
 "metadata": {
  "kernelspec": {
   "display_name": "Python 3",
   "language": "python",
   "name": "python3"
  },
  "language_info": {
   "codemirror_mode": {
    "name": "ipython",
    "version": 3
   },
   "file_extension": ".py",
   "mimetype": "text/x-python",
   "name": "python",
   "nbconvert_exporter": "python",
   "pygments_lexer": "ipython3",
   "version": "3.8.10"
  }
 },
 "nbformat": 4,
 "nbformat_minor": 5
}
